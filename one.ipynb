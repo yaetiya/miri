{
 "cells": [
  {
   "cell_type": "code",
   "execution_count": 233,
   "metadata": {},
   "outputs": [],
   "source": [
    "import matplotlib.pyplot as plt\n",
    "import pandas as pd"
   ]
  },
  {
   "cell_type": "code",
   "execution_count": 234,
   "metadata": {},
   "outputs": [],
   "source": [
    "# path = '2.Общий .xlsb'\n",
    "\n",
    "# data_sample = pd.read_excel(path)\n"
   ]
  },
  {
   "cell_type": "code",
   "execution_count": 235,
   "metadata": {},
   "outputs": [],
   "source": [
    "path2 = 'aquiring-activity.csv'\n",
    "data_sample_aq = pd.read_csv(path2, sep=';')\n"
   ]
  },
  {
   "cell_type": "code",
   "execution_count": 236,
   "metadata": {},
   "outputs": [
    {
     "data": {
      "text/html": [
       "<div>\n",
       "<style scoped>\n",
       "    .dataframe tbody tr th:only-of-type {\n",
       "        vertical-align: middle;\n",
       "    }\n",
       "\n",
       "    .dataframe tbody tr th {\n",
       "        vertical-align: top;\n",
       "    }\n",
       "\n",
       "    .dataframe thead th {\n",
       "        text-align: right;\n",
       "    }\n",
       "</style>\n",
       "<table border=\"1\" class=\"dataframe\">\n",
       "  <thead>\n",
       "    <tr style=\"text-align: right;\">\n",
       "      <th></th>\n",
       "      <th>клиент</th>\n",
       "      <th>31.10.2021</th>\n",
       "      <th>30.11.2021</th>\n",
       "      <th>31.12.2021</th>\n",
       "      <th>31.01.2022</th>\n",
       "      <th>28.02.2022</th>\n",
       "      <th>31.03.2022</th>\n",
       "      <th>30.04.2022</th>\n",
       "      <th>31.05.2022</th>\n",
       "      <th>30.06.2022</th>\n",
       "      <th>...</th>\n",
       "      <th>31.12.2022</th>\n",
       "      <th>31.01.2023</th>\n",
       "      <th>28.02.2023</th>\n",
       "      <th>31.03.2023</th>\n",
       "      <th>30.04.2023</th>\n",
       "      <th>31.05.2023</th>\n",
       "      <th>30.06.2023</th>\n",
       "      <th>31.07.2023</th>\n",
       "      <th>31.08.2023</th>\n",
       "      <th>30.09.2023</th>\n",
       "    </tr>\n",
       "  </thead>\n",
       "  <tbody>\n",
       "    <tr>\n",
       "      <th>0</th>\n",
       "      <td>client_37877</td>\n",
       "      <td>0</td>\n",
       "      <td>0</td>\n",
       "      <td>0</td>\n",
       "      <td>0</td>\n",
       "      <td>0</td>\n",
       "      <td>0</td>\n",
       "      <td>0</td>\n",
       "      <td>0</td>\n",
       "      <td>0</td>\n",
       "      <td>...</td>\n",
       "      <td>0</td>\n",
       "      <td>0</td>\n",
       "      <td>0</td>\n",
       "      <td>0</td>\n",
       "      <td>1</td>\n",
       "      <td>1</td>\n",
       "      <td>1</td>\n",
       "      <td>1</td>\n",
       "      <td>1</td>\n",
       "      <td>1</td>\n",
       "    </tr>\n",
       "    <tr>\n",
       "      <th>1</th>\n",
       "      <td>client_30115</td>\n",
       "      <td>0</td>\n",
       "      <td>0</td>\n",
       "      <td>0</td>\n",
       "      <td>0</td>\n",
       "      <td>0</td>\n",
       "      <td>0</td>\n",
       "      <td>0</td>\n",
       "      <td>0</td>\n",
       "      <td>0</td>\n",
       "      <td>...</td>\n",
       "      <td>0</td>\n",
       "      <td>1</td>\n",
       "      <td>1</td>\n",
       "      <td>1</td>\n",
       "      <td>1</td>\n",
       "      <td>1</td>\n",
       "      <td>1</td>\n",
       "      <td>1</td>\n",
       "      <td>1</td>\n",
       "      <td>1</td>\n",
       "    </tr>\n",
       "    <tr>\n",
       "      <th>2</th>\n",
       "      <td>client_9554</td>\n",
       "      <td>0</td>\n",
       "      <td>0</td>\n",
       "      <td>0</td>\n",
       "      <td>0</td>\n",
       "      <td>0</td>\n",
       "      <td>0</td>\n",
       "      <td>0</td>\n",
       "      <td>0</td>\n",
       "      <td>0</td>\n",
       "      <td>...</td>\n",
       "      <td>0</td>\n",
       "      <td>0</td>\n",
       "      <td>0</td>\n",
       "      <td>0</td>\n",
       "      <td>0</td>\n",
       "      <td>0</td>\n",
       "      <td>0</td>\n",
       "      <td>0</td>\n",
       "      <td>0</td>\n",
       "      <td>0</td>\n",
       "    </tr>\n",
       "    <tr>\n",
       "      <th>3</th>\n",
       "      <td>client_42590</td>\n",
       "      <td>0</td>\n",
       "      <td>0</td>\n",
       "      <td>0</td>\n",
       "      <td>0</td>\n",
       "      <td>0</td>\n",
       "      <td>0</td>\n",
       "      <td>0</td>\n",
       "      <td>0</td>\n",
       "      <td>0</td>\n",
       "      <td>...</td>\n",
       "      <td>0</td>\n",
       "      <td>0</td>\n",
       "      <td>0</td>\n",
       "      <td>0</td>\n",
       "      <td>0</td>\n",
       "      <td>0</td>\n",
       "      <td>0</td>\n",
       "      <td>0</td>\n",
       "      <td>0</td>\n",
       "      <td>0</td>\n",
       "    </tr>\n",
       "    <tr>\n",
       "      <th>4</th>\n",
       "      <td>client_14578</td>\n",
       "      <td>0</td>\n",
       "      <td>0</td>\n",
       "      <td>0</td>\n",
       "      <td>0</td>\n",
       "      <td>0</td>\n",
       "      <td>0</td>\n",
       "      <td>0</td>\n",
       "      <td>0</td>\n",
       "      <td>0</td>\n",
       "      <td>...</td>\n",
       "      <td>0</td>\n",
       "      <td>0</td>\n",
       "      <td>0</td>\n",
       "      <td>0</td>\n",
       "      <td>1</td>\n",
       "      <td>1</td>\n",
       "      <td>1</td>\n",
       "      <td>1</td>\n",
       "      <td>1</td>\n",
       "      <td>1</td>\n",
       "    </tr>\n",
       "  </tbody>\n",
       "</table>\n",
       "<p>5 rows × 25 columns</p>\n",
       "</div>"
      ],
      "text/plain": [
       "         клиент  31.10.2021  30.11.2021  31.12.2021  31.01.2022  28.02.2022  \\\n",
       "0  client_37877           0           0           0           0           0   \n",
       "1  client_30115           0           0           0           0           0   \n",
       "2   client_9554           0           0           0           0           0   \n",
       "3  client_42590           0           0           0           0           0   \n",
       "4  client_14578           0           0           0           0           0   \n",
       "\n",
       "   31.03.2022  30.04.2022  31.05.2022  30.06.2022  ...  31.12.2022  \\\n",
       "0           0           0           0           0  ...           0   \n",
       "1           0           0           0           0  ...           0   \n",
       "2           0           0           0           0  ...           0   \n",
       "3           0           0           0           0  ...           0   \n",
       "4           0           0           0           0  ...           0   \n",
       "\n",
       "   31.01.2023  28.02.2023  31.03.2023  30.04.2023  31.05.2023  30.06.2023  \\\n",
       "0           0           0           0           1           1           1   \n",
       "1           1           1           1           1           1           1   \n",
       "2           0           0           0           0           0           0   \n",
       "3           0           0           0           0           0           0   \n",
       "4           0           0           0           1           1           1   \n",
       "\n",
       "   31.07.2023  31.08.2023  30.09.2023  \n",
       "0           1           1           1  \n",
       "1           1           1           1  \n",
       "2           0           0           0  \n",
       "3           0           0           0  \n",
       "4           1           1           1  \n",
       "\n",
       "[5 rows x 25 columns]"
      ]
     },
     "execution_count": 236,
     "metadata": {},
     "output_type": "execute_result"
    }
   ],
   "source": [
    "data_sample_aq.head()"
   ]
  },
  {
   "cell_type": "code",
   "execution_count": 237,
   "metadata": {},
   "outputs": [],
   "source": [
    "df_aq_mau = data_sample_aq.sum()"
   ]
  },
  {
   "cell_type": "code",
   "execution_count": 238,
   "metadata": {},
   "outputs": [
    {
     "data": {
      "text/plain": [
       "клиент        client_37877client_30115client_9554client_4259...\n",
       "31.10.2021                                                  186\n",
       "30.11.2021                                                  181\n",
       "31.12.2021                                                  181\n",
       "31.01.2022                                                  182\n",
       "28.02.2022                                                  180\n",
       "31.03.2022                                                  179\n",
       "30.04.2022                                                  184\n",
       "31.05.2022                                                  184\n",
       "30.06.2022                                                  188\n",
       "31.07.2022                                                  179\n",
       "31.08.2022                                                  159\n",
       "30.09.2022                                                  659\n",
       "31.10.2022                                                 1341\n",
       "30.11.2022                                                 2061\n",
       "31.12.2022                                                 2910\n",
       "31.01.2023                                                 3562\n",
       "28.02.2023                                                 4295\n",
       "31.03.2023                                                 5276\n",
       "30.04.2023                                                 6161\n",
       "31.05.2023                                                 7017\n",
       "30.06.2023                                                 7852\n",
       "31.07.2023                                                 8396\n",
       "31.08.2023                                                 8511\n",
       "30.09.2023                                                 8546\n",
       "dtype: object"
      ]
     },
     "execution_count": 238,
     "metadata": {},
     "output_type": "execute_result"
    }
   ],
   "source": [
    "df_aq_mau"
   ]
  },
  {
   "cell_type": "code",
   "execution_count": 239,
   "metadata": {},
   "outputs": [],
   "source": [
    "df_aq_mau = df_aq_mau.drop(\"клиент\")"
   ]
  },
  {
   "cell_type": "code",
   "execution_count": 240,
   "metadata": {},
   "outputs": [
    {
     "data": {
      "text/plain": [
       "31.10.2021    186\n",
       "30.11.2021    181\n",
       "31.12.2021    181\n",
       "31.01.2022    182\n",
       "28.02.2022    180\n",
       "dtype: object"
      ]
     },
     "execution_count": 240,
     "metadata": {},
     "output_type": "execute_result"
    }
   ],
   "source": [
    "df_aq_mau = df_aq_mau.transpose()\n",
    "df_aq_mau.head()"
   ]
  },
  {
   "cell_type": "code",
   "execution_count": 241,
   "metadata": {},
   "outputs": [],
   "source": [
    "df_aq_lost_users = -1 * data_sample_aq.set_index(\"клиент\").diff(axis=1).replace(1, 0).sum()"
   ]
  },
  {
   "cell_type": "code",
   "execution_count": 242,
   "metadata": {},
   "outputs": [],
   "source": [
    "df_aq_new_users = data_sample_aq.set_index(\"клиент\").diff(axis=1).replace(-1, 0).sum()"
   ]
  },
  {
   "cell_type": "code",
   "execution_count": 243,
   "metadata": {},
   "outputs": [
    {
     "data": {
      "text/plain": [
       "31.10.2021     186\n",
       "30.11.2021     181\n",
       "31.12.2021     181\n",
       "31.01.2022     182\n",
       "28.02.2022     180\n",
       "31.03.2022     179\n",
       "30.04.2022     184\n",
       "31.05.2022     184\n",
       "30.06.2022     188\n",
       "31.07.2022     179\n",
       "31.08.2022     159\n",
       "30.09.2022     659\n",
       "31.10.2022    1341\n",
       "30.11.2022    2061\n",
       "31.12.2022    2910\n",
       "31.01.2023    3562\n",
       "28.02.2023    4295\n",
       "31.03.2023    5276\n",
       "30.04.2023    6161\n",
       "31.05.2023    7017\n",
       "30.06.2023    7852\n",
       "31.07.2023    8396\n",
       "31.08.2023    8511\n",
       "30.09.2023    8546\n",
       "dtype: object"
      ]
     },
     "execution_count": 243,
     "metadata": {},
     "output_type": "execute_result"
    }
   ],
   "source": [
    "df_aq_mau"
   ]
  },
  {
   "cell_type": "code",
   "execution_count": 244,
   "metadata": {},
   "outputs": [
    {
     "data": {
      "image/png": "[encoded data removed]",
      "text/plain": [
       "<Figure size 1008x504 with 1 Axes>"
      ]
     },
     "metadata": {
      "needs_background": "light"
     },
     "output_type": "display_data"
    }
   ],
   "source": [
    "\n",
    "\n",
    "plt.figure(figsize=(14, 7))\n",
    "# plt.plot(df_aq_mau.index, df_aq_mau.values, label='MAU', color='blue')\n",
    "# ax = df_aq_mau.plot(kind='bar', color='blue', label='MAU')\n",
    "ax = df_aq_new_users.plot(kind='bar', color='green', label='New Users')\n",
    "# plt.plot(df_aq_new_users.index, df_aq_new_users.values, label='New Users', color='green')\n",
    "# plt.plot(df_aq_lost_users.index, df_aq_lost_users.values, label='Lost Users', color='red')\n",
    "plt.xlabel('Date')\n",
    "plt.ylabel('Users')\n",
    "plt.legend()\n",
    "plt.grid(True)\n",
    "plt.xticks(rotation=45)\n",
    "\n",
    "for p in ax.patches:\n",
    "    ax.annotate(f'{p.get_height()}', (p.get_x() + p.get_width() / 2., p.get_height()), \n",
    "                ha='center', va='center', xytext=(0, 20),rotation=90, textcoords='offset points')\n",
    "\n",
    "plt.tight_layout()\n",
    "plt.show()\n",
    "\n"
   ]
  },
  {
   "cell_type": "code",
   "execution_count": 245,
   "metadata": {},
   "outputs": [
    {
     "data": {
      "text/plain": [
       "31.10.2021     186\n",
       "30.11.2021     181\n",
       "31.12.2021     181\n",
       "31.01.2022     182\n",
       "28.02.2022     180\n",
       "31.03.2022     179\n",
       "30.04.2022     184\n",
       "31.05.2022     184\n",
       "30.06.2022     188\n",
       "31.07.2022     179\n",
       "31.08.2022     159\n",
       "30.09.2022     659\n",
       "31.10.2022    1341\n",
       "30.11.2022    2061\n",
       "31.12.2022    2910\n",
       "31.01.2023    3562\n",
       "28.02.2023    4295\n",
       "31.03.2023    5276\n",
       "30.04.2023    6161\n",
       "31.05.2023    7017\n",
       "30.06.2023    7852\n",
       "31.07.2023    8396\n",
       "31.08.2023    8511\n",
       "30.09.2023    8546\n",
       "dtype: object"
      ]
     },
     "execution_count": 245,
     "metadata": {},
     "output_type": "execute_result"
    }
   ],
   "source": [
    "df_aq_mau"
   ]
  },
  {
   "cell_type": "code",
   "execution_count": 246,
   "metadata": {},
   "outputs": [
    {
     "name": "stderr",
     "output_type": "stream",
     "text": [
      "/var/folders/y1/9sxh1fh15_q6bvblpc_zqcrh0000gn/T/ipykernel_41991/1706026653.py:9: FutureWarning: The default dtype for empty Series will be 'object' instead of 'float64' in a future version. Specify a dtype explicitly to silence this warning.\n",
      "  churn_rate_rko = pd.Series(index=rko_data_bool.columns)\n"
     ]
    },
    {
     "data": {
      "text/plain": [
       "31.10.2021         NaN\n",
       "30.11.2021    0.032258\n",
       "31.12.2021    0.011050\n",
       "31.01.2022    0.011050\n",
       "28.02.2022    0.016484\n",
       "dtype: float64"
      ]
     },
     "execution_count": 246,
     "metadata": {},
     "output_type": "execute_result"
    }
   ],
   "source": [
    "# Loading the newly uploaded dataset for churn rate calculation\n",
    "rko_data_path = path2\n",
    "rko_data = pd.read_csv(rko_data_path, delimiter=';')\n",
    "\n",
    "# Converting data to boolean (active/inactive)\n",
    "rko_data_bool = rko_data.drop('клиент', axis=1) > 0\n",
    "\n",
    "# Initializing the churn rate series for the new dataset\n",
    "churn_rate_rko = pd.Series(index=rko_data_bool.columns)\n",
    "\n",
    "# Calculating the churn rate for each month according to the user's method\n",
    "for i in range(1, len(rko_data_bool.columns)):\n",
    "    prev_month = rko_data_bool.columns[i - 1]\n",
    "    current_month = rko_data_bool.columns[i]\n",
    "\n",
    "    # Number of active customers in the previous month\n",
    "    active_prev_month_count = rko_data_bool[prev_month].sum()\n",
    "\n",
    "    # Number of customers who left in the current month\n",
    "    customers_left_count = rko_data_bool[prev_month] & ~rko_data_bool[current_month]\n",
    "    customers_left_count = customers_left_count.sum()\n",
    "\n",
    "    # Calculating churn rate\n",
    "    churn_rate_rko[current_month] = customers_left_count / active_prev_month_count if active_prev_month_count != 0 else 0\n",
    "\n",
    "# Displaying the first few values of the churn rate for validation\n",
    "churn_rate_rko.head()\n"
   ]
  },
  {
   "cell_type": "code",
   "execution_count": 247,
   "metadata": {},
   "outputs": [
    {
     "data": {
      "image/png": "[encoded data removed]",
      "text/plain": [
       "<Figure size 1080x432 with 1 Axes>"
      ]
     },
     "metadata": {
      "needs_background": "light"
     },
     "output_type": "display_data"
    }
   ],
   "source": [
    "# Plotting the churn rate over time with data point values\n",
    "plt.figure(figsize=(15, 6))\n",
    "ax = churn_rate_rko.plot(kind='bar', color='blue')\n",
    "plt.title('Churn Rate Over Time for RKO Dataset')\n",
    "plt.xlabel('Month')\n",
    "plt.ylabel('Churn Rate')\n",
    "plt.xticks(rotation=45)\n",
    "plt.grid(axis='y')\n",
    "\n",
    "# Adding data point values on the graph\n",
    "for p in ax.patches:\n",
    "    ax.annotate(f'{p.get_height():.2%}', (p.get_x() + p.get_width() / 2., p.get_height()), \n",
    "                ha='center', va='center', xytext=(0, 10), textcoords='offset points')\n",
    "\n",
    "plt.show()\n"
   ]
  },
  {
   "cell_type": "code",
   "execution_count": 248,
   "metadata": {},
   "outputs": [
    {
     "name": "stderr",
     "output_type": "stream",
     "text": [
      "/var/folders/y1/9sxh1fh15_q6bvblpc_zqcrh0000gn/T/ipykernel_41991/1998685593.py:6: FutureWarning: The default dtype for empty Series will be 'object' instead of 'float64' in a future version. Specify a dtype explicitly to silence this warning.\n",
      "  retention_rate = pd.Series(index=rko_data_bool.columns)\n"
     ]
    },
    {
     "data": {
      "text/plain": [
       "31.10.2021         NaN\n",
       "30.11.2021    0.967742\n",
       "31.12.2021    0.988950\n",
       "31.01.2022    0.988950\n",
       "28.02.2022    0.983516\n",
       "dtype: float64"
      ]
     },
     "execution_count": 248,
     "metadata": {},
     "output_type": "execute_result"
    }
   ],
   "source": [
    "# Calculating the Retention Rate\n",
    "# Retention Rate = (Number of customers who were active in both the current and previous month) / \n",
    "#                 (Number of active customers in the previous month)\n",
    "\n",
    "# Initializing the retention rate series\n",
    "retention_rate = pd.Series(index=rko_data_bool.columns)\n",
    "\n",
    "# Calculating the retention rate for each month\n",
    "for i in range(1, len(rko_data_bool.columns)):\n",
    "    prev_month = rko_data_bool.columns[i - 1]\n",
    "    current_month = rko_data_bool.columns[i]\n",
    "\n",
    "    # Number of active customers in the previous month\n",
    "    active_prev_month_count = rko_data_bool[prev_month].sum()\n",
    "\n",
    "    # Number of customers who were active in both months\n",
    "    active_both_months_count = (rko_data_bool[prev_month] & rko_data_bool[current_month]).sum()\n",
    "\n",
    "    # Calculating retention rate\n",
    "    retention_rate[current_month] = active_both_months_count / active_prev_month_count if active_prev_month_count != 0 else 0\n",
    "\n",
    "# Displaying the first few values of the retention rate for validation\n",
    "retention_rate.head()\n"
   ]
  },
  {
   "cell_type": "code",
   "execution_count": 249,
   "metadata": {},
   "outputs": [
    {
     "data": {
      "image/png": "[encoded data removed]",
      "text/plain": [
       "<Figure size 1080x432 with 1 Axes>"
      ]
     },
     "metadata": {
      "needs_background": "light"
     },
     "output_type": "display_data"
    }
   ],
   "source": [
    "# Plotting the retention rate over time with data point values\n",
    "plt.figure(figsize=(15, 6))\n",
    "ax = retention_rate.plot(kind='bar', color='orange')\n",
    "plt.title('Retention Rate Over Time for RKO Dataset')\n",
    "plt.xlabel('Month')\n",
    "plt.ylabel('Retention Rate')\n",
    "plt.xticks(rotation=45)\n",
    "plt.grid(axis='y')\n",
    "\n",
    "# Adding data point values on the graph\n",
    "for p in ax.patches:\n",
    "    ax.annotate(f'{p.get_height():.2%}', (p.get_x() + p.get_width() / 2., p.get_height()), \n",
    "                ha='center', va='center', xytext=(0, 10), textcoords='offset points')\n",
    "\n",
    "plt.show()\n"
   ]
  },
  {
   "cell_type": "code",
   "execution_count": 250,
   "metadata": {},
   "outputs": [
    {
     "data": {
      "text/plain": [
       "31.10.2021         NaN\n",
       "30.11.2021    2.988048\n",
       "31.12.2021    2.258727\n",
       "31.01.2022    8.613445\n",
       "28.02.2022    5.287356\n",
       "31.03.2022     6.31068\n",
       "30.04.2022     8.80829\n",
       "31.05.2022    2.840909\n",
       "30.06.2022    5.555556\n",
       "31.07.2022    4.643963\n",
       "31.08.2022    1.298701\n",
       "30.09.2022        -0.0\n",
       "31.10.2022        -0.0\n",
       "30.11.2022        -0.0\n",
       "31.12.2022        -0.0\n",
       "31.01.2023        -0.0\n",
       "28.02.2023        -0.0\n",
       "31.03.2023        -0.0\n",
       "30.04.2023        -0.0\n",
       "31.05.2023        -0.0\n",
       "30.06.2023        -0.0\n",
       "31.07.2023        -0.0\n",
       "31.08.2023    0.853235\n",
       "30.09.2023    0.702733\n",
       "31.10.2023    0.572698\n",
       "dtype: object"
      ]
     },
     "execution_count": 250,
     "metadata": {},
     "output_type": "execute_result"
    }
   ],
   "source": [
    "churn_rate"
   ]
  },
  {
   "cell_type": "code",
   "execution_count": null,
   "metadata": {},
   "outputs": [],
   "source": []
  }
 ],
 "metadata": {
  "kernelspec": {
   "display_name": "Python 3",
   "language": "python",
   "name": "python3"
  },
  "language_info": {
   "codemirror_mode": {
    "name": "ipython",
    "version": 3
   },
   "file_extension": ".py",
   "mimetype": "text/x-python",
   "name": "python",
   "nbconvert_exporter": "python",
   "pygments_lexer": "ipython3",
   "version": "3.9.12"
  }
 },
 "nbformat": 4,
 "nbformat_minor": 2
}
